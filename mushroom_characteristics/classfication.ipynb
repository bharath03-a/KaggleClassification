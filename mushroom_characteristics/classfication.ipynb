{
 "cells": [
  {
   "cell_type": "code",
   "execution_count": 56,
   "id": "4dfdd68a",
   "metadata": {},
   "outputs": [],
   "source": [
    "import warnings\n",
    "warnings.filterwarnings(\"ignore\")"
   ]
  },
  {
   "cell_type": "code",
   "execution_count": 57,
   "id": "3b84b309",
   "metadata": {},
   "outputs": [],
   "source": [
    "import pandas as pd\n",
    "import numpy as np\n",
    "import matplotlib.pyplot as plt\n",
    "import seaborn as sns"
   ]
  },
  {
   "cell_type": "code",
   "execution_count": 58,
   "id": "bc87dd29",
   "metadata": {},
   "outputs": [],
   "source": [
    "random_seed = 42"
   ]
  },
  {
   "cell_type": "code",
   "execution_count": 59,
   "id": "1e59f654",
   "metadata": {},
   "outputs": [],
   "source": [
    "from sklearn.preprocessing import StandardScaler, LabelEncoder\n",
    "from sklearn.linear_model import LogisticRegression\n",
    "from sklearn.svm import SVC, LinearSVC\n",
    "from sklearn.ensemble import GradientBoostingClassifier, RandomForestClassifier\n",
    "from sklearn.tree import DecisionTreeClassifier\n",
    "from xgboost import XGBClassifier\n",
    "from catboost import CatBoostClassifier\n",
    "import lightgbm as lgb\n",
    "from sklearn.metrics import accuracy_score, precision_score, f1_score, confusion_matrix, recall_score, roc_auc_score, classification_report\n",
    "\n",
    "from sklearn.model_selection import train_test_split, GridSearchCV, RandomizedSearchCV, cross_val_score"
   ]
  },
  {
   "cell_type": "code",
   "execution_count": 60,
   "id": "b3f96702",
   "metadata": {},
   "outputs": [],
   "source": [
    "train_data = pd.read_csv(\"./playground-series-s4e8/train.csv\")\n",
    "test_data = pd.read_csv(\"./playground-series-s4e8/test.csv\")"
   ]
  },
  {
   "cell_type": "code",
   "execution_count": 61,
   "id": "5c55c1d0",
   "metadata": {},
   "outputs": [
    {
     "data": {
      "text/html": [
       "<div>\n",
       "<style scoped>\n",
       "    .dataframe tbody tr th:only-of-type {\n",
       "        vertical-align: middle;\n",
       "    }\n",
       "\n",
       "    .dataframe tbody tr th {\n",
       "        vertical-align: top;\n",
       "    }\n",
       "\n",
       "    .dataframe thead th {\n",
       "        text-align: right;\n",
       "    }\n",
       "</style>\n",
       "<table border=\"1\" class=\"dataframe\">\n",
       "  <thead>\n",
       "    <tr style=\"text-align: right;\">\n",
       "      <th></th>\n",
       "      <th>id</th>\n",
       "      <th>class</th>\n",
       "      <th>cap-diameter</th>\n",
       "      <th>cap-shape</th>\n",
       "      <th>cap-surface</th>\n",
       "      <th>cap-color</th>\n",
       "      <th>does-bruise-or-bleed</th>\n",
       "      <th>gill-attachment</th>\n",
       "      <th>gill-spacing</th>\n",
       "      <th>gill-color</th>\n",
       "      <th>...</th>\n",
       "      <th>stem-root</th>\n",
       "      <th>stem-surface</th>\n",
       "      <th>stem-color</th>\n",
       "      <th>veil-type</th>\n",
       "      <th>veil-color</th>\n",
       "      <th>has-ring</th>\n",
       "      <th>ring-type</th>\n",
       "      <th>spore-print-color</th>\n",
       "      <th>habitat</th>\n",
       "      <th>season</th>\n",
       "    </tr>\n",
       "  </thead>\n",
       "  <tbody>\n",
       "    <tr>\n",
       "      <th>0</th>\n",
       "      <td>0</td>\n",
       "      <td>e</td>\n",
       "      <td>8.80</td>\n",
       "      <td>f</td>\n",
       "      <td>s</td>\n",
       "      <td>u</td>\n",
       "      <td>f</td>\n",
       "      <td>a</td>\n",
       "      <td>c</td>\n",
       "      <td>w</td>\n",
       "      <td>...</td>\n",
       "      <td>NaN</td>\n",
       "      <td>NaN</td>\n",
       "      <td>w</td>\n",
       "      <td>NaN</td>\n",
       "      <td>NaN</td>\n",
       "      <td>f</td>\n",
       "      <td>f</td>\n",
       "      <td>NaN</td>\n",
       "      <td>d</td>\n",
       "      <td>a</td>\n",
       "    </tr>\n",
       "    <tr>\n",
       "      <th>1</th>\n",
       "      <td>1</td>\n",
       "      <td>p</td>\n",
       "      <td>4.51</td>\n",
       "      <td>x</td>\n",
       "      <td>h</td>\n",
       "      <td>o</td>\n",
       "      <td>f</td>\n",
       "      <td>a</td>\n",
       "      <td>c</td>\n",
       "      <td>n</td>\n",
       "      <td>...</td>\n",
       "      <td>NaN</td>\n",
       "      <td>y</td>\n",
       "      <td>o</td>\n",
       "      <td>NaN</td>\n",
       "      <td>NaN</td>\n",
       "      <td>t</td>\n",
       "      <td>z</td>\n",
       "      <td>NaN</td>\n",
       "      <td>d</td>\n",
       "      <td>w</td>\n",
       "    </tr>\n",
       "    <tr>\n",
       "      <th>2</th>\n",
       "      <td>2</td>\n",
       "      <td>e</td>\n",
       "      <td>6.94</td>\n",
       "      <td>f</td>\n",
       "      <td>s</td>\n",
       "      <td>b</td>\n",
       "      <td>f</td>\n",
       "      <td>x</td>\n",
       "      <td>c</td>\n",
       "      <td>w</td>\n",
       "      <td>...</td>\n",
       "      <td>NaN</td>\n",
       "      <td>s</td>\n",
       "      <td>n</td>\n",
       "      <td>NaN</td>\n",
       "      <td>NaN</td>\n",
       "      <td>f</td>\n",
       "      <td>f</td>\n",
       "      <td>NaN</td>\n",
       "      <td>l</td>\n",
       "      <td>w</td>\n",
       "    </tr>\n",
       "    <tr>\n",
       "      <th>3</th>\n",
       "      <td>3</td>\n",
       "      <td>e</td>\n",
       "      <td>3.88</td>\n",
       "      <td>f</td>\n",
       "      <td>y</td>\n",
       "      <td>g</td>\n",
       "      <td>f</td>\n",
       "      <td>s</td>\n",
       "      <td>NaN</td>\n",
       "      <td>g</td>\n",
       "      <td>...</td>\n",
       "      <td>NaN</td>\n",
       "      <td>NaN</td>\n",
       "      <td>w</td>\n",
       "      <td>NaN</td>\n",
       "      <td>NaN</td>\n",
       "      <td>f</td>\n",
       "      <td>f</td>\n",
       "      <td>NaN</td>\n",
       "      <td>d</td>\n",
       "      <td>u</td>\n",
       "    </tr>\n",
       "    <tr>\n",
       "      <th>4</th>\n",
       "      <td>4</td>\n",
       "      <td>e</td>\n",
       "      <td>5.85</td>\n",
       "      <td>x</td>\n",
       "      <td>l</td>\n",
       "      <td>w</td>\n",
       "      <td>f</td>\n",
       "      <td>d</td>\n",
       "      <td>NaN</td>\n",
       "      <td>w</td>\n",
       "      <td>...</td>\n",
       "      <td>NaN</td>\n",
       "      <td>NaN</td>\n",
       "      <td>w</td>\n",
       "      <td>NaN</td>\n",
       "      <td>NaN</td>\n",
       "      <td>f</td>\n",
       "      <td>f</td>\n",
       "      <td>NaN</td>\n",
       "      <td>g</td>\n",
       "      <td>a</td>\n",
       "    </tr>\n",
       "  </tbody>\n",
       "</table>\n",
       "<p>5 rows × 22 columns</p>\n",
       "</div>"
      ],
      "text/plain": [
       "   id class  cap-diameter cap-shape cap-surface cap-color  \\\n",
       "0   0     e          8.80         f           s         u   \n",
       "1   1     p          4.51         x           h         o   \n",
       "2   2     e          6.94         f           s         b   \n",
       "3   3     e          3.88         f           y         g   \n",
       "4   4     e          5.85         x           l         w   \n",
       "\n",
       "  does-bruise-or-bleed gill-attachment gill-spacing gill-color  ...  \\\n",
       "0                    f               a            c          w  ...   \n",
       "1                    f               a            c          n  ...   \n",
       "2                    f               x            c          w  ...   \n",
       "3                    f               s          NaN          g  ...   \n",
       "4                    f               d          NaN          w  ...   \n",
       "\n",
       "   stem-root  stem-surface stem-color veil-type veil-color has-ring ring-type  \\\n",
       "0        NaN           NaN          w       NaN        NaN        f         f   \n",
       "1        NaN             y          o       NaN        NaN        t         z   \n",
       "2        NaN             s          n       NaN        NaN        f         f   \n",
       "3        NaN           NaN          w       NaN        NaN        f         f   \n",
       "4        NaN           NaN          w       NaN        NaN        f         f   \n",
       "\n",
       "  spore-print-color habitat season  \n",
       "0               NaN       d      a  \n",
       "1               NaN       d      w  \n",
       "2               NaN       l      w  \n",
       "3               NaN       d      u  \n",
       "4               NaN       g      a  \n",
       "\n",
       "[5 rows x 22 columns]"
      ]
     },
     "execution_count": 61,
     "metadata": {},
     "output_type": "execute_result"
    }
   ],
   "source": [
    "train_data.head()"
   ]
  },
  {
   "cell_type": "code",
   "execution_count": 62,
   "id": "49ae0a9a",
   "metadata": {},
   "outputs": [
    {
     "name": "stdout",
     "output_type": "stream",
     "text": [
      "<class 'pandas.core.frame.DataFrame'>\n",
      "RangeIndex: 3116945 entries, 0 to 3116944\n",
      "Data columns (total 22 columns):\n",
      " #   Column                Dtype  \n",
      "---  ------                -----  \n",
      " 0   id                    int64  \n",
      " 1   class                 object \n",
      " 2   cap-diameter          float64\n",
      " 3   cap-shape             object \n",
      " 4   cap-surface           object \n",
      " 5   cap-color             object \n",
      " 6   does-bruise-or-bleed  object \n",
      " 7   gill-attachment       object \n",
      " 8   gill-spacing          object \n",
      " 9   gill-color            object \n",
      " 10  stem-height           float64\n",
      " 11  stem-width            float64\n",
      " 12  stem-root             object \n",
      " 13  stem-surface          object \n",
      " 14  stem-color            object \n",
      " 15  veil-type             object \n",
      " 16  veil-color            object \n",
      " 17  has-ring              object \n",
      " 18  ring-type             object \n",
      " 19  spore-print-color     object \n",
      " 20  habitat               object \n",
      " 21  season                object \n",
      "dtypes: float64(3), int64(1), object(18)\n",
      "memory usage: 523.2+ MB\n"
     ]
    }
   ],
   "source": [
    "train_data.info()"
   ]
  },
  {
   "cell_type": "code",
   "execution_count": 63,
   "id": "1f61ca7d",
   "metadata": {},
   "outputs": [
    {
     "name": "stdout",
     "output_type": "stream",
     "text": [
      "<class 'pandas.core.frame.DataFrame'>\n",
      "RangeIndex: 2077964 entries, 0 to 2077963\n",
      "Data columns (total 21 columns):\n",
      " #   Column                Dtype  \n",
      "---  ------                -----  \n",
      " 0   id                    int64  \n",
      " 1   cap-diameter          float64\n",
      " 2   cap-shape             object \n",
      " 3   cap-surface           object \n",
      " 4   cap-color             object \n",
      " 5   does-bruise-or-bleed  object \n",
      " 6   gill-attachment       object \n",
      " 7   gill-spacing          object \n",
      " 8   gill-color            object \n",
      " 9   stem-height           float64\n",
      " 10  stem-width            float64\n",
      " 11  stem-root             object \n",
      " 12  stem-surface          object \n",
      " 13  stem-color            object \n",
      " 14  veil-type             object \n",
      " 15  veil-color            object \n",
      " 16  has-ring              object \n",
      " 17  ring-type             object \n",
      " 18  spore-print-color     object \n",
      " 19  habitat               object \n",
      " 20  season                object \n",
      "dtypes: float64(3), int64(1), object(17)\n",
      "memory usage: 332.9+ MB\n"
     ]
    }
   ],
   "source": [
    "test_data.info()"
   ]
  },
  {
   "cell_type": "code",
   "execution_count": 64,
   "id": "50255c4a",
   "metadata": {},
   "outputs": [],
   "source": [
    "# getting the percentage of null records\n",
    "def get_null(df):\n",
    "    null_sum = df.isnull().sum()\n",
    "    null_df = pd.DataFrame(null_sum, columns = [\"null_sum\"])\n",
    "    null_df['null_perc'] = null_df[\"null_sum\"].apply(lambda x : (x/train_data.shape[0])*100)\n",
    "    return null_df.sort_values(by=\"null_perc\", ascending=False)"
   ]
  },
  {
   "cell_type": "code",
   "execution_count": 65,
   "id": "e21e25fe",
   "metadata": {},
   "outputs": [
    {
     "data": {
      "text/plain": [
       "0"
      ]
     },
     "execution_count": 65,
     "metadata": {},
     "output_type": "execute_result"
    }
   ],
   "source": [
    "train_data.duplicated().sum()"
   ]
  },
  {
   "cell_type": "code",
   "execution_count": 66,
   "id": "11b4bba6",
   "metadata": {},
   "outputs": [],
   "source": [
    "# for convenience\n",
    "train_data.rename(columns=lambda x: x.replace(\"-\", \"_\"), inplace=True)\n",
    "test_data.rename(columns=lambda x: x.replace(\"-\", \"_\"), inplace=True)"
   ]
  },
  {
   "cell_type": "code",
   "execution_count": 67,
   "id": "f2627d27",
   "metadata": {},
   "outputs": [],
   "source": [
    "# some columns are not having correct labels - converting them\n",
    "valid_col_vals = {\n",
    "    \"cap_shape\": ['b', 'c', 'x', 'f', 'k', 's'],\n",
    "    \"cap_surface\": ['f', 'g', 'y', 's'],\n",
    "    \"cap_color\": ['n', 'b', 'c', 'g', 'r', 'p', 'u', 'e', 'w', 'y'],\n",
    "    \"does_bruise_or_bleed\": ['t', 'f'],\n",
    "    \"has_ring\": ['t', 'f'],\n",
    "    \"odor\": ['a', 'l', 'c', 'y', 'f', 'm', 'n', 'p', 's'],  # 'n' indicates 'none'\n",
    "    \"gill_attachment\": ['a', 'd', 'f', 'n'],\n",
    "    \"gill_spacing\": ['c', 'w', 'd'],\n",
    "    \"gill_size\": ['b', 'n'],\n",
    "    \"gill_color\": ['k', 'n', 'b', 'h', 'g', 'r', 'o', 'p', 'u', 'e', 'w', 'y'],\n",
    "    \"stalk_shape\": ['e', 't'],\n",
    "    \"stem_root\": ['b', 'c', 'u', 'e', 'z', 'r', '?'],  # '?' indicates missing\n",
    "    \"stem_surface\": ['f', 'y', 'k', 's'],\n",
    "    \"stem_color\": ['n', 'b', 'c', 'g', 'o', 'p', 'e', 'w', 'y'],\n",
    "    \"veil_type\": ['p', 'u'],\n",
    "    \"veil_color\": ['n', 'o', 'w', 'y'],\n",
    "    \"ring_number\": ['n', 'o', 't'],  # 'n' indicates 'none'\n",
    "    \"ring_type\": ['c', 'e', 'f', 'l', 'n', 'p', 's', 'z'],  # 'n' indicates 'none'\n",
    "    \"spore_print_color\": ['k', 'n', 'b', 'h', 'r', 'o', 'u', 'w', 'y'],\n",
    "    \"population\": ['a', 'c', 'n', 's', 'v', 'y'],\n",
    "    \"habitat\": ['g', 'l', 'm', 'p', 'u', 'w', 'd']\n",
    "}"
   ]
  },
  {
   "cell_type": "code",
   "execution_count": 68,
   "id": "db5d95cb",
   "metadata": {},
   "outputs": [],
   "source": [
    "invalid_indices = train_data.index[train_data['cap_shape'].apply(lambda x: x not in valid_col_vals['cap_shape'])]"
   ]
  },
  {
   "cell_type": "code",
   "execution_count": 69,
   "id": "919fc9e1",
   "metadata": {},
   "outputs": [
    {
     "data": {
      "text/plain": [
       "Index([      6,      15,      17,      29,      32,      56,      81,     104,\n",
       "           105,     127,\n",
       "       ...\n",
       "       3116814, 3116815, 3116826, 3116847, 3116868, 3116884, 3116896, 3116915,\n",
       "       3116939, 3116943],\n",
       "      dtype='int64', length=216356)"
      ]
     },
     "execution_count": 69,
     "metadata": {},
     "output_type": "execute_result"
    }
   ],
   "source": [
    "invalid_indices"
   ]
  },
  {
   "cell_type": "code",
   "execution_count": 70,
   "id": "f89cd991",
   "metadata": {},
   "outputs": [],
   "source": [
    "# if there are values other than the above mentioned values in the column we may need to remove those \n",
    "# or convert those\n",
    "def transform_cat_cols(df):\n",
    "    for col in df.columns:\n",
    "        if col in ['odor', 'ring_number', 'ring_type']:\n",
    "            invalid_indices = df.index[df[col].apply(lambda x: x not in valid_col_vals[col])]\n",
    "            df.loc[invalid_indices, col] = 'n'\n",
    "        elif col in ['stem_root']:\n",
    "            invalid_indices = df.index[df[col].apply(lambda x: x not in valid_col_vals[col])]\n",
    "            df.loc[invalid_indices, col] = '?'\n",
    "        elif col in valid_col_vals.keys():\n",
    "            invalid_indices = df.index[df[col].apply(lambda x: x not in valid_col_vals[col])]\n",
    "            df.loc[invalid_indices, col] = 'unk'\n",
    "    return df"
   ]
  },
  {
   "cell_type": "code",
   "execution_count": 71,
   "id": "1d80c825",
   "metadata": {},
   "outputs": [],
   "source": [
    "train_data = transform_cat_cols(train_data)\n",
    "test_data = transform_cat_cols(test_data)"
   ]
  },
  {
   "cell_type": "code",
   "execution_count": 72,
   "id": "ed8d602f",
   "metadata": {},
   "outputs": [
    {
     "data": {
      "text/html": [
       "<div>\n",
       "<style scoped>\n",
       "    .dataframe tbody tr th:only-of-type {\n",
       "        vertical-align: middle;\n",
       "    }\n",
       "\n",
       "    .dataframe tbody tr th {\n",
       "        vertical-align: top;\n",
       "    }\n",
       "\n",
       "    .dataframe thead th {\n",
       "        text-align: right;\n",
       "    }\n",
       "</style>\n",
       "<table border=\"1\" class=\"dataframe\">\n",
       "  <thead>\n",
       "    <tr style=\"text-align: right;\">\n",
       "      <th></th>\n",
       "      <th>null_sum</th>\n",
       "      <th>null_perc</th>\n",
       "    </tr>\n",
       "  </thead>\n",
       "  <tbody>\n",
       "    <tr>\n",
       "      <th>cap_diameter</th>\n",
       "      <td>4</td>\n",
       "      <td>0.000128</td>\n",
       "    </tr>\n",
       "    <tr>\n",
       "      <th>id</th>\n",
       "      <td>0</td>\n",
       "      <td>0.000000</td>\n",
       "    </tr>\n",
       "    <tr>\n",
       "      <th>stem_root</th>\n",
       "      <td>0</td>\n",
       "      <td>0.000000</td>\n",
       "    </tr>\n",
       "    <tr>\n",
       "      <th>habitat</th>\n",
       "      <td>0</td>\n",
       "      <td>0.000000</td>\n",
       "    </tr>\n",
       "    <tr>\n",
       "      <th>spore_print_color</th>\n",
       "      <td>0</td>\n",
       "      <td>0.000000</td>\n",
       "    </tr>\n",
       "    <tr>\n",
       "      <th>ring_type</th>\n",
       "      <td>0</td>\n",
       "      <td>0.000000</td>\n",
       "    </tr>\n",
       "    <tr>\n",
       "      <th>has_ring</th>\n",
       "      <td>0</td>\n",
       "      <td>0.000000</td>\n",
       "    </tr>\n",
       "    <tr>\n",
       "      <th>veil_color</th>\n",
       "      <td>0</td>\n",
       "      <td>0.000000</td>\n",
       "    </tr>\n",
       "    <tr>\n",
       "      <th>veil_type</th>\n",
       "      <td>0</td>\n",
       "      <td>0.000000</td>\n",
       "    </tr>\n",
       "    <tr>\n",
       "      <th>stem_color</th>\n",
       "      <td>0</td>\n",
       "      <td>0.000000</td>\n",
       "    </tr>\n",
       "    <tr>\n",
       "      <th>stem_surface</th>\n",
       "      <td>0</td>\n",
       "      <td>0.000000</td>\n",
       "    </tr>\n",
       "    <tr>\n",
       "      <th>stem_width</th>\n",
       "      <td>0</td>\n",
       "      <td>0.000000</td>\n",
       "    </tr>\n",
       "    <tr>\n",
       "      <th>class</th>\n",
       "      <td>0</td>\n",
       "      <td>0.000000</td>\n",
       "    </tr>\n",
       "    <tr>\n",
       "      <th>stem_height</th>\n",
       "      <td>0</td>\n",
       "      <td>0.000000</td>\n",
       "    </tr>\n",
       "    <tr>\n",
       "      <th>gill_color</th>\n",
       "      <td>0</td>\n",
       "      <td>0.000000</td>\n",
       "    </tr>\n",
       "    <tr>\n",
       "      <th>gill_spacing</th>\n",
       "      <td>0</td>\n",
       "      <td>0.000000</td>\n",
       "    </tr>\n",
       "    <tr>\n",
       "      <th>gill_attachment</th>\n",
       "      <td>0</td>\n",
       "      <td>0.000000</td>\n",
       "    </tr>\n",
       "    <tr>\n",
       "      <th>does_bruise_or_bleed</th>\n",
       "      <td>0</td>\n",
       "      <td>0.000000</td>\n",
       "    </tr>\n",
       "    <tr>\n",
       "      <th>cap_color</th>\n",
       "      <td>0</td>\n",
       "      <td>0.000000</td>\n",
       "    </tr>\n",
       "    <tr>\n",
       "      <th>cap_surface</th>\n",
       "      <td>0</td>\n",
       "      <td>0.000000</td>\n",
       "    </tr>\n",
       "    <tr>\n",
       "      <th>cap_shape</th>\n",
       "      <td>0</td>\n",
       "      <td>0.000000</td>\n",
       "    </tr>\n",
       "    <tr>\n",
       "      <th>season</th>\n",
       "      <td>0</td>\n",
       "      <td>0.000000</td>\n",
       "    </tr>\n",
       "  </tbody>\n",
       "</table>\n",
       "</div>"
      ],
      "text/plain": [
       "                      null_sum  null_perc\n",
       "cap_diameter                 4   0.000128\n",
       "id                           0   0.000000\n",
       "stem_root                    0   0.000000\n",
       "habitat                      0   0.000000\n",
       "spore_print_color            0   0.000000\n",
       "ring_type                    0   0.000000\n",
       "has_ring                     0   0.000000\n",
       "veil_color                   0   0.000000\n",
       "veil_type                    0   0.000000\n",
       "stem_color                   0   0.000000\n",
       "stem_surface                 0   0.000000\n",
       "stem_width                   0   0.000000\n",
       "class                        0   0.000000\n",
       "stem_height                  0   0.000000\n",
       "gill_color                   0   0.000000\n",
       "gill_spacing                 0   0.000000\n",
       "gill_attachment              0   0.000000\n",
       "does_bruise_or_bleed         0   0.000000\n",
       "cap_color                    0   0.000000\n",
       "cap_surface                  0   0.000000\n",
       "cap_shape                    0   0.000000\n",
       "season                       0   0.000000"
      ]
     },
     "execution_count": 72,
     "metadata": {},
     "output_type": "execute_result"
    }
   ],
   "source": [
    "null_train = get_null(train_data)\n",
    "null_train"
   ]
  },
  {
   "cell_type": "code",
   "execution_count": 73,
   "id": "50022ffc",
   "metadata": {},
   "outputs": [
    {
     "data": {
      "text/html": [
       "<div>\n",
       "<style scoped>\n",
       "    .dataframe tbody tr th:only-of-type {\n",
       "        vertical-align: middle;\n",
       "    }\n",
       "\n",
       "    .dataframe tbody tr th {\n",
       "        vertical-align: top;\n",
       "    }\n",
       "\n",
       "    .dataframe thead th {\n",
       "        text-align: right;\n",
       "    }\n",
       "</style>\n",
       "<table border=\"1\" class=\"dataframe\">\n",
       "  <thead>\n",
       "    <tr style=\"text-align: right;\">\n",
       "      <th></th>\n",
       "      <th>null_sum</th>\n",
       "      <th>null_perc</th>\n",
       "    </tr>\n",
       "  </thead>\n",
       "  <tbody>\n",
       "    <tr>\n",
       "      <th>cap_diameter</th>\n",
       "      <td>7</td>\n",
       "      <td>0.000225</td>\n",
       "    </tr>\n",
       "    <tr>\n",
       "      <th>stem_height</th>\n",
       "      <td>1</td>\n",
       "      <td>0.000032</td>\n",
       "    </tr>\n",
       "    <tr>\n",
       "      <th>id</th>\n",
       "      <td>0</td>\n",
       "      <td>0.000000</td>\n",
       "    </tr>\n",
       "    <tr>\n",
       "      <th>stem_surface</th>\n",
       "      <td>0</td>\n",
       "      <td>0.000000</td>\n",
       "    </tr>\n",
       "    <tr>\n",
       "      <th>habitat</th>\n",
       "      <td>0</td>\n",
       "      <td>0.000000</td>\n",
       "    </tr>\n",
       "    <tr>\n",
       "      <th>spore_print_color</th>\n",
       "      <td>0</td>\n",
       "      <td>0.000000</td>\n",
       "    </tr>\n",
       "    <tr>\n",
       "      <th>ring_type</th>\n",
       "      <td>0</td>\n",
       "      <td>0.000000</td>\n",
       "    </tr>\n",
       "    <tr>\n",
       "      <th>has_ring</th>\n",
       "      <td>0</td>\n",
       "      <td>0.000000</td>\n",
       "    </tr>\n",
       "    <tr>\n",
       "      <th>veil_color</th>\n",
       "      <td>0</td>\n",
       "      <td>0.000000</td>\n",
       "    </tr>\n",
       "    <tr>\n",
       "      <th>veil_type</th>\n",
       "      <td>0</td>\n",
       "      <td>0.000000</td>\n",
       "    </tr>\n",
       "    <tr>\n",
       "      <th>stem_color</th>\n",
       "      <td>0</td>\n",
       "      <td>0.000000</td>\n",
       "    </tr>\n",
       "    <tr>\n",
       "      <th>stem_width</th>\n",
       "      <td>0</td>\n",
       "      <td>0.000000</td>\n",
       "    </tr>\n",
       "    <tr>\n",
       "      <th>stem_root</th>\n",
       "      <td>0</td>\n",
       "      <td>0.000000</td>\n",
       "    </tr>\n",
       "    <tr>\n",
       "      <th>gill_color</th>\n",
       "      <td>0</td>\n",
       "      <td>0.000000</td>\n",
       "    </tr>\n",
       "    <tr>\n",
       "      <th>gill_spacing</th>\n",
       "      <td>0</td>\n",
       "      <td>0.000000</td>\n",
       "    </tr>\n",
       "    <tr>\n",
       "      <th>gill_attachment</th>\n",
       "      <td>0</td>\n",
       "      <td>0.000000</td>\n",
       "    </tr>\n",
       "    <tr>\n",
       "      <th>does_bruise_or_bleed</th>\n",
       "      <td>0</td>\n",
       "      <td>0.000000</td>\n",
       "    </tr>\n",
       "    <tr>\n",
       "      <th>cap_color</th>\n",
       "      <td>0</td>\n",
       "      <td>0.000000</td>\n",
       "    </tr>\n",
       "    <tr>\n",
       "      <th>cap_surface</th>\n",
       "      <td>0</td>\n",
       "      <td>0.000000</td>\n",
       "    </tr>\n",
       "    <tr>\n",
       "      <th>cap_shape</th>\n",
       "      <td>0</td>\n",
       "      <td>0.000000</td>\n",
       "    </tr>\n",
       "    <tr>\n",
       "      <th>season</th>\n",
       "      <td>0</td>\n",
       "      <td>0.000000</td>\n",
       "    </tr>\n",
       "  </tbody>\n",
       "</table>\n",
       "</div>"
      ],
      "text/plain": [
       "                      null_sum  null_perc\n",
       "cap_diameter                 7   0.000225\n",
       "stem_height                  1   0.000032\n",
       "id                           0   0.000000\n",
       "stem_surface                 0   0.000000\n",
       "habitat                      0   0.000000\n",
       "spore_print_color            0   0.000000\n",
       "ring_type                    0   0.000000\n",
       "has_ring                     0   0.000000\n",
       "veil_color                   0   0.000000\n",
       "veil_type                    0   0.000000\n",
       "stem_color                   0   0.000000\n",
       "stem_width                   0   0.000000\n",
       "stem_root                    0   0.000000\n",
       "gill_color                   0   0.000000\n",
       "gill_spacing                 0   0.000000\n",
       "gill_attachment              0   0.000000\n",
       "does_bruise_or_bleed         0   0.000000\n",
       "cap_color                    0   0.000000\n",
       "cap_surface                  0   0.000000\n",
       "cap_shape                    0   0.000000\n",
       "season                       0   0.000000"
      ]
     },
     "execution_count": 73,
     "metadata": {},
     "output_type": "execute_result"
    }
   ],
   "source": [
    "null_test = get_null(test_data)\n",
    "null_test"
   ]
  },
  {
   "cell_type": "code",
   "execution_count": 74,
   "id": "e48f5ac4",
   "metadata": {},
   "outputs": [],
   "source": [
    "miss_col = []\n",
    "miss_col.append(null_train[null_train['null_perc'] > 0].index.tolist())\n",
    "miss_col.append(null_test[null_test['null_perc'] > 0].index.tolist())"
   ]
  },
  {
   "cell_type": "code",
   "execution_count": 75,
   "id": "398baf13",
   "metadata": {},
   "outputs": [
    {
     "name": "stdout",
     "output_type": "stream",
     "text": [
      "[['cap_diameter'], ['cap_diameter', 'stem_height']]\n"
     ]
    }
   ],
   "source": [
    "print(miss_col)"
   ]
  },
  {
   "cell_type": "code",
   "execution_count": 76,
   "id": "46b83358",
   "metadata": {},
   "outputs": [
    {
     "name": "stdout",
     "output_type": "stream",
     "text": [
      "{'stem_height', 'cap_diameter'}\n"
     ]
    }
   ],
   "source": [
    "miss_col = set(item for sublist in miss_col for item in sublist)\n",
    "print(miss_col)"
   ]
  },
  {
   "cell_type": "code",
   "execution_count": 77,
   "id": "2a680e05",
   "metadata": {},
   "outputs": [],
   "source": [
    "# handling missing data\n",
    "def handle_missing_data(df, miss_col):\n",
    "    for col in miss_col:\n",
    "        df[col] = df[col].fillna(df[col].mean())\n",
    "    \n",
    "    return df"
   ]
  },
  {
   "cell_type": "code",
   "execution_count": 78,
   "id": "97fbe127",
   "metadata": {},
   "outputs": [],
   "source": [
    "train_data = handle_missing_data(train_data, miss_col)\n",
    "test_data = handle_missing_data(test_data, miss_col)"
   ]
  },
  {
   "cell_type": "code",
   "execution_count": 79,
   "id": "5960d886",
   "metadata": {},
   "outputs": [
    {
     "data": {
      "image/png": "[encoded data removed]",
      "text/plain": [
       "<Figure size 640x480 with 1 Axes>"
      ]
     },
     "metadata": {},
     "output_type": "display_data"
    }
   ],
   "source": [
    "df_col = train_data['class'].value_counts()\n",
    "\n",
    "palette = sns.color_palette(\"tab10\", len(df_col))\n",
    "colors = [palette[i] for i in range(len(df_col))]\n",
    "\n",
    "plt.bar(df_col.index, df_col.values, color=colors)\n",
    "\n",
    "plt.title(\"Class - Frequency\")\n",
    "plt.xlabel(\"Class\")\n",
    "plt.ylabel(\"Frequency\")\n",
    "\n",
    "plt.show()"
   ]
  },
  {
   "cell_type": "code",
   "execution_count": 80,
   "id": "7ff2bf55",
   "metadata": {},
   "outputs": [],
   "source": [
    "train_data.drop(['id'], axis = 1, inplace=True)\n",
    "test_ids = test_data['id']\n",
    "test_data.drop(['id'], axis = 1, inplace=True)"
   ]
  },
  {
   "cell_type": "code",
   "execution_count": 81,
   "id": "ac48539e",
   "metadata": {},
   "outputs": [
    {
     "name": "stdout",
     "output_type": "stream",
     "text": [
      "<class 'pandas.core.frame.DataFrame'>\n",
      "RangeIndex: 3116945 entries, 0 to 3116944\n",
      "Data columns (total 21 columns):\n",
      " #   Column                Dtype  \n",
      "---  ------                -----  \n",
      " 0   class                 object \n",
      " 1   cap_diameter          float64\n",
      " 2   cap_shape             object \n",
      " 3   cap_surface           object \n",
      " 4   cap_color             object \n",
      " 5   does_bruise_or_bleed  object \n",
      " 6   gill_attachment       object \n",
      " 7   gill_spacing          object \n",
      " 8   gill_color            object \n",
      " 9   stem_height           float64\n",
      " 10  stem_width            float64\n",
      " 11  stem_root             object \n",
      " 12  stem_surface          object \n",
      " 13  stem_color            object \n",
      " 14  veil_type             object \n",
      " 15  veil_color            object \n",
      " 16  has_ring              object \n",
      " 17  ring_type             object \n",
      " 18  spore_print_color     object \n",
      " 19  habitat               object \n",
      " 20  season                object \n",
      "dtypes: float64(3), object(18)\n",
      "memory usage: 499.4+ MB\n"
     ]
    }
   ],
   "source": [
    "train_data.info()"
   ]
  },
  {
   "cell_type": "code",
   "execution_count": 82,
   "id": "d18a7fb5",
   "metadata": {},
   "outputs": [],
   "source": [
    "# need to encode the categorical data and standardize numerical columns\n",
    "numerical_cols = train_data.select_dtypes(include=['number']).columns.tolist()\n",
    "categorical_cols = train_data.select_dtypes(include=['object']).columns.tolist()"
   ]
  },
  {
   "cell_type": "code",
   "execution_count": 83,
   "id": "63d93ea9",
   "metadata": {},
   "outputs": [
    {
     "name": "stdout",
     "output_type": "stream",
     "text": [
      "['cap_diameter', 'stem_height', 'stem_width']\n"
     ]
    }
   ],
   "source": [
    "print(numerical_cols)"
   ]
  },
  {
   "cell_type": "code",
   "execution_count": 84,
   "id": "2b7b600d",
   "metadata": {},
   "outputs": [
    {
     "name": "stdout",
     "output_type": "stream",
     "text": [
      "['class', 'cap_shape', 'cap_surface', 'cap_color', 'does_bruise_or_bleed', 'gill_attachment', 'gill_spacing', 'gill_color', 'stem_root', 'stem_surface', 'stem_color', 'veil_type', 'veil_color', 'has_ring', 'ring_type', 'spore_print_color', 'habitat', 'season']\n"
     ]
    }
   ],
   "source": [
    "print(categorical_cols)"
   ]
  },
  {
   "cell_type": "code",
   "execution_count": 85,
   "id": "276e7521",
   "metadata": {},
   "outputs": [],
   "source": [
    "scaler = StandardScaler()\n",
    "train_data[numerical_cols] = scaler.fit_transform(train_data[numerical_cols])\n",
    "test_data[numerical_cols] = scaler.transform(test_data[numerical_cols])"
   ]
  },
  {
   "cell_type": "code",
   "execution_count": 86,
   "id": "bc662f8a",
   "metadata": {},
   "outputs": [
    {
     "name": "stdout",
     "output_type": "stream",
     "text": [
      "Transformed Train Data:\n",
      "  class  cap_diameter  cap_shape  cap_surface  cap_color  \\\n",
      "0     e      0.534605          2            2          7   \n",
      "1     p     -0.386405          6            3          8   \n",
      "2     e      0.135286          2            2          0   \n",
      "3     e     -0.521659          2            4          3   \n",
      "4     e     -0.098724          6            3          9   \n",
      "\n",
      "   does_bruise_or_bleed  gill_attachment  gill_spacing  gill_color  \\\n",
      "0                     0                0             0          11   \n",
      "1                     0                0             0           5   \n",
      "2                     0                4             0          11   \n",
      "3                     0                4             2           2   \n",
      "4                     0                1             2          11   \n",
      "\n",
      "   stem_height  ...  stem_root  stem_surface  stem_color  veil_type  \\\n",
      "0    -0.680926  ...          0             3           8          2   \n",
      "1    -0.577213  ...          0             4           5          2   \n",
      "2     0.185819  ...          0             2           4          2   \n",
      "3    -0.810568  ...          0             3           8          2   \n",
      "4    -1.103187  ...          0             3           8          2   \n",
      "\n",
      "   veil_color  has_ring  ring_type  spore_print_color  habitat  season  \n",
      "0           2         0          2                  7        0       0  \n",
      "1           2         1          7                  7        0       3  \n",
      "2           2         0          2                  7        2       3  \n",
      "3           2         0          2                  7        0       2  \n",
      "4           2         0          2                  7        1       0  \n",
      "\n",
      "[5 rows x 21 columns]\n",
      "\n",
      "Transformed Test Data:\n",
      "   cap_diameter  cap_shape  cap_surface  cap_color  does_bruise_or_bleed  \\\n",
      "0      0.500255          6            3          4                     1   \n",
      "1      0.126698          5            3          8                     0   \n",
      "2     -0.925272          0            1          4                     0   \n",
      "3     -0.609681          6            3          4                     0   \n",
      "4     -0.030024          6            3         10                     0   \n",
      "\n",
      "   gill_attachment  gill_spacing  gill_color  stem_height  stem_width  \\\n",
      "0                4             2          11     1.771149    0.736981   \n",
      "1                4             0          12    -1.881035   -0.049878   \n",
      "2                4             0           5    -0.062351   -0.989909   \n",
      "3                4             0           5    -0.506836   -0.326576   \n",
      "4                4             2          12     0.141371    0.314523   \n",
      "\n",
      "   stem_root  stem_surface  stem_color  veil_type  veil_color  has_ring  \\\n",
      "0          1             3           8          1           3         1   \n",
      "1          0             3           4          2           2         0   \n",
      "2          0             3           4          2           2         0   \n",
      "3          0             3           8          2           0         1   \n",
      "4          0             3           9          2           4         1   \n",
      "\n",
      "   ring_type  spore_print_color  habitat  season  \n",
      "0          4                  7        0       0  \n",
      "1          2                  7        0       0  \n",
      "2          2                  7        0       1  \n",
      "3          7                  7        0       2  \n",
      "4          4                  7        0       2  \n"
     ]
    }
   ],
   "source": [
    "label_encoders = {}\n",
    "\n",
    "for col in categorical_cols:\n",
    "    if col != \"class\":\n",
    "        label_encoder = LabelEncoder()\n",
    "        train_data[col] = label_encoder.fit_transform(train_data[col])\n",
    "        label_encoders[col] = label_encoder\n",
    "        test_data[col] = label_encoder.transform(test_data[col])\n",
    "\n",
    "print(\"Transformed Train Data:\")\n",
    "print(train_data.head())\n",
    "print(\"\\nTransformed Test Data:\")\n",
    "print(test_data.head())"
   ]
  },
  {
   "cell_type": "code",
   "execution_count": 87,
   "id": "e66a2f7d",
   "metadata": {},
   "outputs": [],
   "source": [
    "train_data['class'] = train_data['class'].map({'e':1,'p':0})"
   ]
  },
  {
   "cell_type": "code",
   "execution_count": 88,
   "id": "25fe6c62",
   "metadata": {},
   "outputs": [],
   "source": [
    "x = train_data.drop('class', axis=1)\n",
    "y = train_data['class']\n",
    "\n",
    "X_train, X_test, y_train, y_test = train_test_split(x, y, test_size=0.2, random_state=random_seed)"
   ]
  },
  {
   "cell_type": "code",
   "execution_count": 89,
   "id": "072affee",
   "metadata": {},
   "outputs": [],
   "source": [
    "class classificationModel:\n",
    "    def __init__(self, model, X_train, X_test, y_train, y_test):\n",
    "        self.X_train = X_train\n",
    "        self.X_test = X_test\n",
    "        self.y_train = y_train\n",
    "        self.y_test = y_test\n",
    "        self.model = model\n",
    "        \n",
    "    def model_training(self):\n",
    "        self.model.fit(self.X_train, self.y_train)\n",
    "        y_train_pred = self.model.predict(self.X_train)\n",
    "        y_test_pred = self.model.predict(self.X_test)\n",
    "        y_test_prob = self.model.predict_proba(self.X_test)[:, 1]\n",
    "        \n",
    "        return y_train_pred, y_test_pred, y_test_prob\n",
    "        \n",
    "    \n",
    "    def model_evaluation(self, train_pred, test_pred, test_prob):\n",
    "        train_acc = accuracy_score(self.y_train, train_pred)*100\n",
    "        test_acc = accuracy_score(self.y_test, test_pred)*100\n",
    "        test_f1 = f1_score(self.y_test, test_pred)\n",
    "        test_pre = precision_score(self.y_test, test_pred)\n",
    "        test_recall = recall_score(self.y_test, test_pred)\n",
    "        test_roc_auc = roc_auc_score(self.y_test, test_prob)\n",
    "        \n",
    "        print(f\"Model : {self.model}\")\n",
    "        print(f\"Accuracy of Training Data: {train_acc}\")\n",
    "        print(f\"Accuracy of Testing Data: {test_acc}\")\n",
    "        print(f\"F1 Score of Testing Data: {test_f1}\")\n",
    "        print(f\"Pecision of Testing Data: {test_pre}\")\n",
    "        print(f\"Recall of Testing Data: {test_recall}\")\n",
    "        print(f\"ROC AUC of Testing Data: {test_roc_auc}\")\n",
    "        print(\"\\n***CLASSIFICATION REPORT***\\n\")\n",
    "        print(classification_report(self.y_test, test_pred))"
   ]
  },
  {
   "cell_type": "markdown",
   "id": "ab2fd1fa",
   "metadata": {},
   "source": [
    "### Logistic Regression"
   ]
  },
  {
   "cell_type": "code",
   "execution_count": 90,
   "id": "8680e190",
   "metadata": {},
   "outputs": [],
   "source": [
    "# Logistic Regression\n",
    "log_model = LogisticRegression(solver='liblinear', random_state=random_seed)\n",
    "log_classification = classificationModel(log_model, X_train, X_test, y_train, y_test)"
   ]
  },
  {
   "cell_type": "code",
   "execution_count": 91,
   "id": "c57a249a",
   "metadata": {},
   "outputs": [
    {
     "name": "stdout",
     "output_type": "stream",
     "text": [
      "CPU times: user 37.1 s, sys: 1.39 s, total: 38.5 s\n",
      "Wall time: 38.8 s\n"
     ]
    }
   ],
   "source": [
    "%%time\n",
    "# Logistic Regression Traning\n",
    "train_pred, test_pred, test_prob = log_classification.model_training()"
   ]
  },
  {
   "cell_type": "code",
   "execution_count": 92,
   "id": "4cec66c0",
   "metadata": {},
   "outputs": [
    {
     "name": "stdout",
     "output_type": "stream",
     "text": [
      "Model : LogisticRegression(random_state=42, solver='liblinear')\n",
      "Accuracy of Training Data: 65.96314660669341\n",
      "Accuracy of Testing Data: 65.89416880952342\n",
      "F1 Score of Testing Data: 0.5983815273485609\n",
      "Pecision of Testing Data: 0.6412703296881263\n",
      "Recall of Testing Data: 0.560869980913395\n",
      "ROC AUC of Testing Data: 0.7306448320214269\n",
      "\n",
      "***CLASSIFICATION REPORT***\n",
      "\n",
      "              precision    recall  f1-score   support\n",
      "\n",
      "           0       0.67      0.74      0.70    340992\n",
      "           1       0.64      0.56      0.60    282397\n",
      "\n",
      "    accuracy                           0.66    623389\n",
      "   macro avg       0.66      0.65      0.65    623389\n",
      "weighted avg       0.66      0.66      0.66    623389\n",
      "\n",
      "CPU times: user 2.9 s, sys: 245 ms, total: 3.14 s\n",
      "Wall time: 2.33 s\n"
     ]
    }
   ],
   "source": [
    "%%time\n",
    "log_classification.model_evaluation(train_pred, test_pred, test_prob)"
   ]
  },
  {
   "cell_type": "markdown",
   "id": "e7c89d3c",
   "metadata": {},
   "source": [
    "### GradientBoostingClassifier"
   ]
  },
  {
   "cell_type": "code",
   "execution_count": 93,
   "id": "d94323dc",
   "metadata": {},
   "outputs": [],
   "source": [
    "# Gradient Boosting\n",
    "gb_model = GradientBoostingClassifier(random_state=random_seed)\n",
    "gb_classification = classificationModel(gb_model, X_train, X_test, y_train, y_test)"
   ]
  },
  {
   "cell_type": "code",
   "execution_count": 94,
   "id": "7c3e5cd3",
   "metadata": {},
   "outputs": [
    {
     "name": "stdout",
     "output_type": "stream",
     "text": [
      "CPU times: user 7min 9s, sys: 6.39 s, total: 7min 16s\n",
      "Wall time: 7min 25s\n"
     ]
    }
   ],
   "source": [
    "%%time\n",
    "# Gradient Boosting Traning\n",
    "train_pred, test_pred, test_prob = gb_classification.model_training()"
   ]
  },
  {
   "cell_type": "code",
   "execution_count": 95,
   "id": "f109ccf1",
   "metadata": {},
   "outputs": [
    {
     "name": "stdout",
     "output_type": "stream",
     "text": [
      "Model : GradientBoostingClassifier(random_state=42)\n",
      "Accuracy of Training Data: 90.4530317345991\n",
      "Accuracy of Testing Data: 90.34342922316563\n",
      "F1 Score of Testing Data: 0.8919447715327838\n",
      "Pecision of Testing Data: 0.904429082622576\n",
      "Recall of Testing Data: 0.8798004228090242\n",
      "ROC AUC of Testing Data: 0.9661325944430468\n",
      "\n",
      "***CLASSIFICATION REPORT***\n",
      "\n",
      "              precision    recall  f1-score   support\n",
      "\n",
      "           0       0.90      0.92      0.91    340992\n",
      "           1       0.90      0.88      0.89    282397\n",
      "\n",
      "    accuracy                           0.90    623389\n",
      "   macro avg       0.90      0.90      0.90    623389\n",
      "weighted avg       0.90      0.90      0.90    623389\n",
      "\n",
      "CPU times: user 2.01 s, sys: 90.2 ms, total: 2.1 s\n",
      "Wall time: 2.11 s\n"
     ]
    }
   ],
   "source": [
    "%%time\n",
    "gb_classification.model_evaluation(train_pred, test_pred, test_prob)"
   ]
  },
  {
   "cell_type": "markdown",
   "id": "7b05815e",
   "metadata": {},
   "source": [
    "### XGB Classifer"
   ]
  },
  {
   "cell_type": "code",
   "execution_count": 96,
   "id": "880a5349",
   "metadata": {},
   "outputs": [],
   "source": [
    "# XGBoost\n",
    "xgb_model = XGBClassifier(random_state=random_seed)\n",
    "xgb_classification = classificationModel(xgb_model, X_train, X_test, y_train, y_test)"
   ]
  },
  {
   "cell_type": "code",
   "execution_count": 97,
   "id": "918e7059",
   "metadata": {},
   "outputs": [
    {
     "name": "stdout",
     "output_type": "stream",
     "text": [
      "CPU times: user 48.4 s, sys: 8.16 s, total: 56.6 s\n",
      "Wall time: 11.6 s\n"
     ]
    }
   ],
   "source": [
    "%%time\n",
    "# XGBoost Traning\n",
    "train_pred, test_pred, test_prob = xgb_classification.model_training()"
   ]
  },
  {
   "cell_type": "code",
   "execution_count": 98,
   "id": "8f1e1ecb",
   "metadata": {},
   "outputs": [
    {
     "name": "stdout",
     "output_type": "stream",
     "text": [
      "Model : XGBClassifier(base_score=None, booster=None, callbacks=None,\n",
      "              colsample_bylevel=None, colsample_bynode=None,\n",
      "              colsample_bytree=None, device=None, early_stopping_rounds=None,\n",
      "              enable_categorical=False, eval_metric=None, feature_types=None,\n",
      "              gamma=None, grow_policy=None, importance_type=None,\n",
      "              interaction_constraints=None, learning_rate=None, max_bin=None,\n",
      "              max_cat_threshold=None, max_cat_to_onehot=None,\n",
      "              max_delta_step=None, max_depth=None, max_leaves=None,\n",
      "              min_child_weight=None, missing=nan, monotone_constraints=None,\n",
      "              multi_strategy=None, n_estimators=None, n_jobs=None,\n",
      "              num_parallel_tree=None, random_state=42, ...)\n",
      "Accuracy of Training Data: 98.97993066929317\n",
      "Accuracy of Testing Data: 98.93421282698283\n",
      "F1 Score of Testing Data: 0.988254386926376\n",
      "Pecision of Testing Data: 0.9867472048746563\n",
      "Recall of Testing Data: 0.9897661802356257\n",
      "ROC AUC of Testing Data: 0.9964527779214694\n",
      "\n",
      "***CLASSIFICATION REPORT***\n",
      "\n",
      "              precision    recall  f1-score   support\n",
      "\n",
      "           0       0.99      0.99      0.99    340992\n",
      "           1       0.99      0.99      0.99    282397\n",
      "\n",
      "    accuracy                           0.99    623389\n",
      "   macro avg       0.99      0.99      0.99    623389\n",
      "weighted avg       0.99      0.99      0.99    623389\n",
      "\n",
      "CPU times: user 2.55 s, sys: 570 ms, total: 3.12 s\n",
      "Wall time: 2.21 s\n"
     ]
    }
   ],
   "source": [
    "%%time\n",
    "xgb_classification.model_evaluation(train_pred, test_pred, test_prob)"
   ]
  },
  {
   "cell_type": "markdown",
   "id": "2f6a59cb",
   "metadata": {},
   "source": [
    "### Random Forest"
   ]
  },
  {
   "cell_type": "code",
   "execution_count": 99,
   "id": "eb145b9d",
   "metadata": {},
   "outputs": [],
   "source": [
    "# Random Forest\n",
    "rf_model = RandomForestClassifier(random_state=random_seed)\n",
    "rf_classification = classificationModel(rf_model, X_train, X_test, y_train, y_test)"
   ]
  },
  {
   "cell_type": "code",
   "execution_count": 100,
   "id": "7f66e0df",
   "metadata": {},
   "outputs": [
    {
     "name": "stdout",
     "output_type": "stream",
     "text": [
      "CPU times: user 8min 49s, sys: 7.27 s, total: 8min 56s\n",
      "Wall time: 9min 10s\n"
     ]
    }
   ],
   "source": [
    "%%time\n",
    "# Random Forest Traning\n",
    "train_pred, test_pred, test_prob = rf_classification.model_training()"
   ]
  },
  {
   "cell_type": "code",
   "execution_count": 101,
   "id": "e3119217",
   "metadata": {},
   "outputs": [
    {
     "name": "stdout",
     "output_type": "stream",
     "text": [
      "Model : RandomForestClassifier(random_state=42)\n",
      "Accuracy of Training Data: 99.99851617529345\n",
      "Accuracy of Testing Data: 99.10008036715438\n",
      "F1 Score of Testing Data: 0.990076311571976\n",
      "Pecision of Testing Data: 0.9891664339718009\n",
      "Recall of Testing Data: 0.9909878646019611\n",
      "ROC AUC of Testing Data: 0.995869908490824\n",
      "\n",
      "***CLASSIFICATION REPORT***\n",
      "\n",
      "              precision    recall  f1-score   support\n",
      "\n",
      "           0       0.99      0.99      0.99    340992\n",
      "           1       0.99      0.99      0.99    282397\n",
      "\n",
      "    accuracy                           0.99    623389\n",
      "   macro avg       0.99      0.99      0.99    623389\n",
      "weighted avg       0.99      0.99      0.99    623389\n",
      "\n",
      "CPU times: user 1.95 s, sys: 34.7 ms, total: 1.98 s\n",
      "Wall time: 1.98 s\n"
     ]
    }
   ],
   "source": [
    "%%time\n",
    "rf_classification.model_evaluation(train_pred, test_pred, test_prob)"
   ]
  },
  {
   "cell_type": "markdown",
   "id": "ea63f421",
   "metadata": {},
   "source": [
    "### CatBoost"
   ]
  },
  {
   "cell_type": "code",
   "execution_count": 102,
   "id": "8e7e868e",
   "metadata": {},
   "outputs": [],
   "source": [
    "catboost_model = CatBoostClassifier(\n",
    "    iterations=500,\n",
    "    learning_rate=0.1,\n",
    "    depth=6,\n",
    "    loss_function='MultiClass',\n",
    "    random_seed=42,\n",
    "    verbose=100\n",
    ")"
   ]
  },
  {
   "cell_type": "code",
   "execution_count": 103,
   "id": "9f1478b9",
   "metadata": {},
   "outputs": [],
   "source": [
    "catboost_classification = classificationModel(catboost_model, X_train, X_test, y_train, y_test)"
   ]
  },
  {
   "cell_type": "code",
   "execution_count": 104,
   "id": "cba16c39",
   "metadata": {},
   "outputs": [
    {
     "name": "stdout",
     "output_type": "stream",
     "text": [
      "0:\tlearn: 0.6701785\ttotal: 253ms\tremaining: 2m 6s\n",
      "100:\tlearn: 0.1601112\ttotal: 38s\tremaining: 2m 30s\n",
      "200:\tlearn: 0.0843051\ttotal: 1m 15s\tremaining: 1m 52s\n",
      "300:\tlearn: 0.0608551\ttotal: 1m 54s\tremaining: 1m 15s\n",
      "400:\tlearn: 0.0522780\ttotal: 2m 39s\tremaining: 39.3s\n",
      "499:\tlearn: 0.0484375\ttotal: 3m 22s\tremaining: 0us\n",
      "CPU times: user 13min 18s, sys: 12.7 s, total: 13min 30s\n",
      "Wall time: 3min 25s\n"
     ]
    }
   ],
   "source": [
    "%%time\n",
    "train_pred_cat, test_pred_cat, test_prob_cat = catboost_classification.model_training()"
   ]
  },
  {
   "cell_type": "code",
   "execution_count": 105,
   "id": "d94bfe56",
   "metadata": {},
   "outputs": [
    {
     "name": "stdout",
     "output_type": "stream",
     "text": [
      "Model : <catboost.core.CatBoostClassifier object at 0x10990dc10>\n",
      "Accuracy of Training Data: 98.89037984308354\n",
      "Accuracy of Testing Data: 98.85801642313227\n",
      "F1 Score of Testing Data: 0.9874112518899036\n",
      "Pecision of Testing Data: 0.9861713551012334\n",
      "Recall of Testing Data: 0.9886542704065553\n",
      "ROC AUC of Testing Data: 0.9961886307967265\n",
      "\n",
      "***CLASSIFICATION REPORT***\n",
      "\n",
      "              precision    recall  f1-score   support\n",
      "\n",
      "           0       0.99      0.99      0.99    340992\n",
      "           1       0.99      0.99      0.99    282397\n",
      "\n",
      "    accuracy                           0.99    623389\n",
      "   macro avg       0.99      0.99      0.99    623389\n",
      "weighted avg       0.99      0.99      0.99    623389\n",
      "\n",
      "CPU times: user 2.06 s, sys: 79.5 ms, total: 2.14 s\n",
      "Wall time: 2.15 s\n"
     ]
    }
   ],
   "source": [
    "%%time\n",
    "catboost_classification.model_evaluation(train_pred_cat, test_pred_cat, test_prob_cat)"
   ]
  },
  {
   "cell_type": "markdown",
   "id": "8037ac4e",
   "metadata": {},
   "source": [
    "### Light GBM"
   ]
  },
  {
   "cell_type": "code",
   "execution_count": 106,
   "id": "d356d941",
   "metadata": {},
   "outputs": [],
   "source": [
    "lgb_params = {\n",
    "    'objective': 'multiclass',\n",
    "    'num_class': 7,\n",
    "    'learning_rate': 0.1,\n",
    "    'max_depth': 6,\n",
    "    'num_leaves': 31,\n",
    "    'metric': 'multi_logloss',\n",
    "    'seed': 42\n",
    "}"
   ]
  },
  {
   "cell_type": "code",
   "execution_count": 120,
   "id": "dc652139",
   "metadata": {},
   "outputs": [],
   "source": [
    "train_lg_data = lgb.Dataset(X_train, label=y_train)\n",
    "test_lg_data = lgb.Dataset(X_test, label=y_test, reference=train_lg_data)\n",
    "\n",
    "class classificationModelLGB:\n",
    "    def __init__(self, params, train_data, test_data):\n",
    "        self.params = params\n",
    "        self.train_data = train_data\n",
    "        self.test_data = test_data\n",
    "\n",
    "    def model_training(self):\n",
    "        self.model = lgb.train(\n",
    "            self.params, \n",
    "            self.train_data, \n",
    "            valid_sets=[self.test_data], \n",
    "            num_boost_round=500\n",
    "        )\n",
    "        train_pred = np.argmax(self.model.predict(X_train), axis=1)\n",
    "        test_pred = np.argmax(self.model.predict(X_test), axis=1)\n",
    "        test_prob = self.model.predict(X_test)\n",
    "        return train_pred, test_pred, test_prob\n",
    "\n",
    "    def model_evaluation(self, train_pred, test_pred, test_prob):\n",
    "        print(\"Training Accuracy:\", accuracy_score(y_train, train_pred))\n",
    "        print(\"Test Accuracy:\", accuracy_score(y_test, test_pred))\n",
    "        print(\"Classification Report:\\n\", classification_report(y_test, test_pred))\n",
    "\n",
    "lgb_classification = classificationModelLGB(lgb_params, train_lg_data, test_lg_data)"
   ]
  },
  {
   "cell_type": "code",
   "execution_count": 121,
   "id": "143662e7",
   "metadata": {},
   "outputs": [
    {
     "name": "stdout",
     "output_type": "stream",
     "text": [
      "[LightGBM] [Info] Auto-choosing row-wise multi-threading, the overhead of testing was 0.132166 seconds.\n",
      "You can set `force_row_wise=true` to remove the overhead.\n",
      "And if memory is not enough, you can set `force_col_wise=true`.\n",
      "[LightGBM] [Info] Total Bins 862\n",
      "[LightGBM] [Info] Number of data points in the train set: 2493556, number of used features: 20\n",
      "[LightGBM] [Info] Start training from score -0.602992\n",
      "[LightGBM] [Info] Start training from score -0.792243\n",
      "[LightGBM] [Info] Start training from score -34.538776\n",
      "[LightGBM] [Info] Start training from score -34.538776\n",
      "[LightGBM] [Info] Start training from score -34.538776\n",
      "[LightGBM] [Info] Start training from score -34.538776\n",
      "[LightGBM] [Info] Start training from score -34.538776\n",
      "CPU times: user 15min 19s, sys: 1min 15s, total: 16min 35s\n",
      "Wall time: 3min 16s\n"
     ]
    }
   ],
   "source": [
    "%%time\n",
    "train_pred_lgb, test_pred_lgb, test_prob_lgb = lgb_classification.model_training()"
   ]
  },
  {
   "cell_type": "code",
   "execution_count": 122,
   "id": "604a67b0",
   "metadata": {},
   "outputs": [
    {
     "name": "stdout",
     "output_type": "stream",
     "text": [
      "Training Accuracy: 0.9909450599866215\n",
      "Test Accuracy: 0.9902244024196769\n",
      "Classification Report:\n",
      "               precision    recall  f1-score   support\n",
      "\n",
      "           0       0.99      0.99      0.99    340992\n",
      "           1       0.99      0.99      0.99    282397\n",
      "\n",
      "    accuracy                           0.99    623389\n",
      "   macro avg       0.99      0.99      0.99    623389\n",
      "weighted avg       0.99      0.99      0.99    623389\n",
      "\n",
      "CPU times: user 1.17 s, sys: 49.7 ms, total: 1.22 s\n",
      "Wall time: 1.21 s\n"
     ]
    }
   ],
   "source": [
    "%%time\n",
    "lgb_classification.model_evaluation(train_pred_lgb, test_pred_lgb, test_prob_lgb)"
   ]
  },
  {
   "cell_type": "code",
   "execution_count": 123,
   "id": "0892ae04",
   "metadata": {},
   "outputs": [],
   "source": [
    "def predict_on_unseen_data(model, unseen_data):\n",
    "\n",
    "    unseen_prob = model.predict(unseen_data)\n",
    "    unseen_pred = np.argmax(unseen_prob, axis=1)\n",
    "    return unseen_pred"
   ]
  },
  {
   "cell_type": "markdown",
   "id": "bc93f322",
   "metadata": {},
   "source": [
    "Need to generalize the model so that I am planning to implement CV and hyper-parameter tuning"
   ]
  },
  {
   "cell_type": "code",
   "execution_count": 124,
   "id": "affe308f",
   "metadata": {},
   "outputs": [],
   "source": [
    "unseen_predictions = predict_on_unseen_data(lgb_classification.model, test_data)"
   ]
  },
  {
   "cell_type": "code",
   "execution_count": 126,
   "id": "96084faa",
   "metadata": {},
   "outputs": [],
   "source": [
    "submission_df = pd.DataFrame({\n",
    "    'id': test_ids,\n",
    "    'class': unseen_predictions\n",
    "}, columns = ['id', 'class'])\n",
    "\n",
    "submission_df['class'] = submission_df['class'].map({1:'e',0:'p'})\n",
    "\n",
    "submission_df.to_csv('lgb_submission.csv', index=False)"
   ]
  },
  {
   "cell_type": "code",
   "execution_count": 110,
   "id": "9201d436",
   "metadata": {},
   "outputs": [],
   "source": [
    "predictions_test = rf_model.predict(test_data)"
   ]
  },
  {
   "cell_type": "code",
   "execution_count": 111,
   "id": "bd0c46d7",
   "metadata": {},
   "outputs": [],
   "source": [
    "result = pd.DataFrame({'id' : test_ids, 'class' : predictions_test}, columns = ['id', 'class'])"
   ]
  },
  {
   "cell_type": "code",
   "execution_count": 112,
   "id": "38ce19bc",
   "metadata": {},
   "outputs": [],
   "source": [
    "result['class'] = result['class'].map({1:'e',0:'p'})"
   ]
  },
  {
   "cell_type": "code",
   "execution_count": 113,
   "id": "931256ed",
   "metadata": {},
   "outputs": [],
   "source": [
    "result.to_csv(\"./submission.csv\", index = False)"
   ]
  },
  {
   "cell_type": "markdown",
   "id": "b7042fa0",
   "metadata": {},
   "source": [
    "#### Hyper parameter Tuning"
   ]
  },
  {
   "cell_type": "code",
   "execution_count": 114,
   "id": "daaecb78",
   "metadata": {},
   "outputs": [],
   "source": [
    "param_grid = {\n",
    "    'n_estimators': [100, 200],\n",
    "    'max_depth': [None, 20]\n",
    "}"
   ]
  },
  {
   "cell_type": "code",
   "execution_count": 115,
   "id": "b40881c4",
   "metadata": {},
   "outputs": [],
   "source": [
    "rf_random_search = RandomizedSearchCV(\n",
    "    estimator=rf_model,\n",
    "    param_distributions=param_grid,\n",
    "    n_iter=100,\n",
    "    cv=3,\n",
    "    verbose=2,\n",
    "    random_state=random_seed,\n",
    "    n_jobs=-1\n",
    ")"
   ]
  },
  {
   "cell_type": "code",
   "execution_count": 127,
   "id": "d4dd0eac",
   "metadata": {},
   "outputs": [
    {
     "name": "stdout",
     "output_type": "stream",
     "text": [
      "Fitting 3 folds for each of 4 candidates, totalling 12 fits\n",
      "[CV] END ...................max_depth=None, n_estimators=100; total time=16.3min\n",
      "[CV] END .....................max_depth=20, n_estimators=100; total time=13.5min\n",
      "[CV] END .....................max_depth=20, n_estimators=100; total time=12.6min\n",
      "[CV] END ...................max_depth=None, n_estimators=100; total time=16.3min\n",
      "[CV] END .....................max_depth=20, n_estimators=200; total time=17.8min\n",
      "[CV] END ...................max_depth=None, n_estimators=200; total time=29.9min\n",
      "[CV] END ...................max_depth=None, n_estimators=200; total time=30.0min\n",
      "[CV] END ...................max_depth=None, n_estimators=200; total time=30.0min\n",
      "[CV] END .....................max_depth=20, n_estimators=100; total time=13.6min\n",
      "[CV] END .....................max_depth=20, n_estimators=200; total time=19.7min\n",
      "[CV] END ...................max_depth=None, n_estimators=100; total time=16.2min\n",
      "[CV] END .....................max_depth=20, n_estimators=200; total time=17.8min\n",
      "CPU times: user 13min 17s, sys: 7.28 s, total: 13min 24s\n",
      "Wall time: 47min 33s\n"
     ]
    },
    {
     "data": {
      "text/html": [
       "<style>#sk-container-id-1 {color: black;background-color: white;}#sk-container-id-1 pre{padding: 0;}#sk-container-id-1 div.sk-toggleable {background-color: white;}#sk-container-id-1 label.sk-toggleable__label {cursor: pointer;display: block;width: 100%;margin-bottom: 0;padding: 0.3em;box-sizing: border-box;text-align: center;}#sk-container-id-1 label.sk-toggleable__label-arrow:before {content: \"▸\";float: left;margin-right: 0.25em;color: #696969;}#sk-container-id-1 label.sk-toggleable__label-arrow:hover:before {color: black;}#sk-container-id-1 div.sk-estimator:hover label.sk-toggleable__label-arrow:before {color: black;}#sk-container-id-1 div.sk-toggleable__content {max-height: 0;max-width: 0;overflow: hidden;text-align: left;background-color: #f0f8ff;}#sk-container-id-1 div.sk-toggleable__content pre {margin: 0.2em;color: black;border-radius: 0.25em;background-color: #f0f8ff;}#sk-container-id-1 input.sk-toggleable__control:checked~div.sk-toggleable__content {max-height: 200px;max-width: 100%;overflow: auto;}#sk-container-id-1 input.sk-toggleable__control:checked~label.sk-toggleable__label-arrow:before {content: \"▾\";}#sk-container-id-1 div.sk-estimator input.sk-toggleable__control:checked~label.sk-toggleable__label {background-color: #d4ebff;}#sk-container-id-1 div.sk-label input.sk-toggleable__control:checked~label.sk-toggleable__label {background-color: #d4ebff;}#sk-container-id-1 input.sk-hidden--visually {border: 0;clip: rect(1px 1px 1px 1px);clip: rect(1px, 1px, 1px, 1px);height: 1px;margin: -1px;overflow: hidden;padding: 0;position: absolute;width: 1px;}#sk-container-id-1 div.sk-estimator {font-family: monospace;background-color: #f0f8ff;border: 1px dotted black;border-radius: 0.25em;box-sizing: border-box;margin-bottom: 0.5em;}#sk-container-id-1 div.sk-estimator:hover {background-color: #d4ebff;}#sk-container-id-1 div.sk-parallel-item::after {content: \"\";width: 100%;border-bottom: 1px solid gray;flex-grow: 1;}#sk-container-id-1 div.sk-label:hover label.sk-toggleable__label {background-color: #d4ebff;}#sk-container-id-1 div.sk-serial::before {content: \"\";position: absolute;border-left: 1px solid gray;box-sizing: border-box;top: 0;bottom: 0;left: 50%;z-index: 0;}#sk-container-id-1 div.sk-serial {display: flex;flex-direction: column;align-items: center;background-color: white;padding-right: 0.2em;padding-left: 0.2em;position: relative;}#sk-container-id-1 div.sk-item {position: relative;z-index: 1;}#sk-container-id-1 div.sk-parallel {display: flex;align-items: stretch;justify-content: center;background-color: white;position: relative;}#sk-container-id-1 div.sk-item::before, #sk-container-id-1 div.sk-parallel-item::before {content: \"\";position: absolute;border-left: 1px solid gray;box-sizing: border-box;top: 0;bottom: 0;left: 50%;z-index: -1;}#sk-container-id-1 div.sk-parallel-item {display: flex;flex-direction: column;z-index: 1;position: relative;background-color: white;}#sk-container-id-1 div.sk-parallel-item:first-child::after {align-self: flex-end;width: 50%;}#sk-container-id-1 div.sk-parallel-item:last-child::after {align-self: flex-start;width: 50%;}#sk-container-id-1 div.sk-parallel-item:only-child::after {width: 0;}#sk-container-id-1 div.sk-dashed-wrapped {border: 1px dashed gray;margin: 0 0.4em 0.5em 0.4em;box-sizing: border-box;padding-bottom: 0.4em;background-color: white;}#sk-container-id-1 div.sk-label label {font-family: monospace;font-weight: bold;display: inline-block;line-height: 1.2em;}#sk-container-id-1 div.sk-label-container {text-align: center;}#sk-container-id-1 div.sk-container {/* jupyter's `normalize.less` sets `[hidden] { display: none; }` but bootstrap.min.css set `[hidden] { display: none !important; }` so we also need the `!important` here to be able to override the default hidden behavior on the sphinx rendered scikit-learn.org. See: https://github.com/scikit-learn/scikit-learn/issues/21755 */display: inline-block !important;position: relative;}#sk-container-id-1 div.sk-text-repr-fallback {display: none;}</style><div id=\"sk-container-id-1\" class=\"sk-top-container\"><div class=\"sk-text-repr-fallback\"><pre>RandomizedSearchCV(cv=3, estimator=RandomForestClassifier(random_state=42),\n",
       "                   n_iter=100, n_jobs=-1,\n",
       "                   param_distributions={&#x27;max_depth&#x27;: [None, 20],\n",
       "                                        &#x27;n_estimators&#x27;: [100, 200]},\n",
       "                   random_state=42, verbose=2)</pre><b>In a Jupyter environment, please rerun this cell to show the HTML representation or trust the notebook. <br />On GitHub, the HTML representation is unable to render, please try loading this page with nbviewer.org.</b></div><div class=\"sk-container\" hidden><div class=\"sk-item sk-dashed-wrapped\"><div class=\"sk-label-container\"><div class=\"sk-label sk-toggleable\"><input class=\"sk-toggleable__control sk-hidden--visually\" id=\"sk-estimator-id-1\" type=\"checkbox\" ><label for=\"sk-estimator-id-1\" class=\"sk-toggleable__label sk-toggleable__label-arrow\">RandomizedSearchCV</label><div class=\"sk-toggleable__content\"><pre>RandomizedSearchCV(cv=3, estimator=RandomForestClassifier(random_state=42),\n",
       "                   n_iter=100, n_jobs=-1,\n",
       "                   param_distributions={&#x27;max_depth&#x27;: [None, 20],\n",
       "                                        &#x27;n_estimators&#x27;: [100, 200]},\n",
       "                   random_state=42, verbose=2)</pre></div></div></div><div class=\"sk-parallel\"><div class=\"sk-parallel-item\"><div class=\"sk-item\"><div class=\"sk-label-container\"><div class=\"sk-label sk-toggleable\"><input class=\"sk-toggleable__control sk-hidden--visually\" id=\"sk-estimator-id-2\" type=\"checkbox\" ><label for=\"sk-estimator-id-2\" class=\"sk-toggleable__label sk-toggleable__label-arrow\">estimator: RandomForestClassifier</label><div class=\"sk-toggleable__content\"><pre>RandomForestClassifier(random_state=42)</pre></div></div></div><div class=\"sk-serial\"><div class=\"sk-item\"><div class=\"sk-estimator sk-toggleable\"><input class=\"sk-toggleable__control sk-hidden--visually\" id=\"sk-estimator-id-3\" type=\"checkbox\" ><label for=\"sk-estimator-id-3\" class=\"sk-toggleable__label sk-toggleable__label-arrow\">RandomForestClassifier</label><div class=\"sk-toggleable__content\"><pre>RandomForestClassifier(random_state=42)</pre></div></div></div></div></div></div></div></div></div></div>"
      ],
      "text/plain": [
       "RandomizedSearchCV(cv=3, estimator=RandomForestClassifier(random_state=42),\n",
       "                   n_iter=100, n_jobs=-1,\n",
       "                   param_distributions={'max_depth': [None, 20],\n",
       "                                        'n_estimators': [100, 200]},\n",
       "                   random_state=42, verbose=2)"
      ]
     },
     "execution_count": 127,
     "metadata": {},
     "output_type": "execute_result"
    }
   ],
   "source": [
    "%%time\n",
    "rf_random_search.fit(X_train, y_train)"
   ]
  },
  {
   "cell_type": "code",
   "execution_count": 128,
   "id": "0c68167f",
   "metadata": {},
   "outputs": [
    {
     "name": "stdout",
     "output_type": "stream",
     "text": [
      "Best Parameters:  {'n_estimators': 200, 'max_depth': None}\n"
     ]
    }
   ],
   "source": [
    "best_params = rf_random_search.best_params_\n",
    "print(\"Best Parameters: \", best_params)"
   ]
  },
  {
   "cell_type": "code",
   "execution_count": 129,
   "id": "604ef7dc",
   "metadata": {},
   "outputs": [],
   "source": [
    "best_rf_model = rf_random_search.best_estimator_"
   ]
  },
  {
   "cell_type": "code",
   "execution_count": 130,
   "id": "a9817618",
   "metadata": {},
   "outputs": [
    {
     "name": "stdout",
     "output_type": "stream",
     "text": [
      "Best Model Accuracy: 0.9910\n",
      "Best Model Precision: 0.9891\n",
      "Best Model Recall: 0.9910\n",
      "Best Model F1-Score: 0.9901\n",
      "Best Model AUC: 0.9960\n",
      "\n",
      "Classification Report:\n",
      "               precision    recall  f1-score   support\n",
      "\n",
      "           0       0.99      0.99      0.99    340992\n",
      "           1       0.99      0.99      0.99    282397\n",
      "\n",
      "    accuracy                           0.99    623389\n",
      "   macro avg       0.99      0.99      0.99    623389\n",
      "weighted avg       0.99      0.99      0.99    623389\n",
      "\n"
     ]
    }
   ],
   "source": [
    "y_pred = best_rf_model.predict(X_test)\n",
    "\n",
    "y_proba = best_rf_model.predict_proba(X_test)[:, 1]\n",
    "\n",
    "accuracy = accuracy_score(y_test, y_pred)\n",
    "precision = precision_score(y_test, y_pred)\n",
    "recall = recall_score(y_test, y_pred)\n",
    "f1 = f1_score(y_test, y_pred)\n",
    "roc_auc = roc_auc_score(y_test, y_proba)\n",
    "\n",
    "classification_rep = classification_report(y_test, y_pred)\n",
    "\n",
    "print(f\"Best Model Accuracy: {accuracy:.4f}\")\n",
    "print(f\"Best Model Precision: {precision:.4f}\")\n",
    "print(f\"Best Model Recall: {recall:.4f}\")\n",
    "print(f\"Best Model F1-Score: {f1:.4f}\")\n",
    "print(f\"Best Model AUC: {roc_auc:.4f}\")\n",
    "print(\"\\nClassification Report:\\n\", classification_rep)"
   ]
  },
  {
   "cell_type": "code",
   "execution_count": 131,
   "id": "1828a198",
   "metadata": {},
   "outputs": [],
   "source": [
    "predictions_test = best_rf_model.predict(test_data)"
   ]
  },
  {
   "cell_type": "code",
   "execution_count": 132,
   "id": "46da35ce",
   "metadata": {},
   "outputs": [],
   "source": [
    "result = pd.DataFrame({'id' : test_ids, 'class' : predictions_test}, columns = ['id', 'class'])"
   ]
  },
  {
   "cell_type": "code",
   "execution_count": 133,
   "id": "14391a0c",
   "metadata": {},
   "outputs": [],
   "source": [
    "result['class'] = result['class'].map({1:'e',0:'p'})"
   ]
  },
  {
   "cell_type": "code",
   "execution_count": 134,
   "id": "374bbe80",
   "metadata": {},
   "outputs": [],
   "source": [
    "result.to_csv(\"./submission.csv\", index = False)"
   ]
  }
 ],
 "metadata": {
  "kernelspec": {
   "display_name": "Python 3 (ipykernel)",
   "language": "python",
   "name": "python3"
  },
  "language_info": {
   "codemirror_mode": {
    "name": "ipython",
    "version": 3
   },
   "file_extension": ".py",
   "mimetype": "text/x-python",
   "name": "python",
   "nbconvert_exporter": "python",
   "pygments_lexer": "ipython3",
   "version": "3.11.7"
  }
 },
 "nbformat": 4,
 "nbformat_minor": 5
}
