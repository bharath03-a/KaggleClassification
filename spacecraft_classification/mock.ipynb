{
 "cells": [
  {
   "cell_type": "code",
   "execution_count": 42,
   "id": "7ec77a6e",
   "metadata": {},
   "outputs": [],
   "source": [
    "import pandas as pd\n",
    "from datetime import datetime"
   ]
  },
  {
   "cell_type": "code",
   "execution_count": 29,
   "id": "58707b4b",
   "metadata": {},
   "outputs": [],
   "source": [
    "dict_cars = {\n",
    "    \"cars\" : [\"Nissan\", \"Toyota\", \"Mercedes\", \"Ferrari\", \"Aston Martin\", \"Audi\"],\n",
    "    \"manufacture_date\" : [\"09-05-2016\", \"04-08-2017\", \"06-05-2018\", \"02-05-2019\", \"10-05-2020\", \"04-06-2023\"],\n",
    "    \"last_service_date\" : [\"09-05-2017\", \"04-08-2018\", \"06-05-2019\", \"02-05-2020\", \"10-05-2021\", \"04-06-2024\"]\n",
    "}"
   ]
  },
  {
   "cell_type": "code",
   "execution_count": 30,
   "id": "30388928",
   "metadata": {},
   "outputs": [],
   "source": [
    "car_df = pd.DataFrame(dict_cars)"
   ]
  },
  {
   "cell_type": "code",
   "execution_count": 31,
   "id": "5054a68e",
   "metadata": {},
   "outputs": [
    {
     "data": {
      "text/html": [
       "<div>\n",
       "<style scoped>\n",
       "    .dataframe tbody tr th:only-of-type {\n",
       "        vertical-align: middle;\n",
       "    }\n",
       "\n",
       "    .dataframe tbody tr th {\n",
       "        vertical-align: top;\n",
       "    }\n",
       "\n",
       "    .dataframe thead th {\n",
       "        text-align: right;\n",
       "    }\n",
       "</style>\n",
       "<table border=\"1\" class=\"dataframe\">\n",
       "  <thead>\n",
       "    <tr style=\"text-align: right;\">\n",
       "      <th></th>\n",
       "      <th>cars</th>\n",
       "      <th>manufacture_date</th>\n",
       "      <th>last_service_date</th>\n",
       "    </tr>\n",
       "  </thead>\n",
       "  <tbody>\n",
       "    <tr>\n",
       "      <th>0</th>\n",
       "      <td>Nissan</td>\n",
       "      <td>09-05-2016</td>\n",
       "      <td>09-05-2017</td>\n",
       "    </tr>\n",
       "    <tr>\n",
       "      <th>1</th>\n",
       "      <td>Toyota</td>\n",
       "      <td>04-08-2017</td>\n",
       "      <td>04-08-2018</td>\n",
       "    </tr>\n",
       "    <tr>\n",
       "      <th>2</th>\n",
       "      <td>Mercedes</td>\n",
       "      <td>06-05-2018</td>\n",
       "      <td>06-05-2019</td>\n",
       "    </tr>\n",
       "    <tr>\n",
       "      <th>3</th>\n",
       "      <td>Ferrari</td>\n",
       "      <td>02-05-2019</td>\n",
       "      <td>02-05-2020</td>\n",
       "    </tr>\n",
       "    <tr>\n",
       "      <th>4</th>\n",
       "      <td>Aston Martin</td>\n",
       "      <td>10-05-2020</td>\n",
       "      <td>10-05-2021</td>\n",
       "    </tr>\n",
       "    <tr>\n",
       "      <th>5</th>\n",
       "      <td>Audi</td>\n",
       "      <td>04-06-2023</td>\n",
       "      <td>04-06-2024</td>\n",
       "    </tr>\n",
       "  </tbody>\n",
       "</table>\n",
       "</div>"
      ],
      "text/plain": [
       "           cars manufacture_date last_service_date\n",
       "0        Nissan       09-05-2016        09-05-2017\n",
       "1        Toyota       04-08-2017        04-08-2018\n",
       "2      Mercedes       06-05-2018        06-05-2019\n",
       "3       Ferrari       02-05-2019        02-05-2020\n",
       "4  Aston Martin       10-05-2020        10-05-2021\n",
       "5          Audi       04-06-2023        04-06-2024"
      ]
     },
     "execution_count": 31,
     "metadata": {},
     "output_type": "execute_result"
    }
   ],
   "source": [
    "car_df"
   ]
  },
  {
   "cell_type": "code",
   "execution_count": 37,
   "id": "6ffa0052",
   "metadata": {},
   "outputs": [],
   "source": [
    "new_car = {\n",
    "    \"cars\" : [\"Dodge\"],\n",
    "    \"manufacture_date\" : [\"04-06-2021\"],\n",
    "    \"last_service_date\" : [\"04-06-2023\"]\n",
    "}"
   ]
  },
  {
   "cell_type": "code",
   "execution_count": 38,
   "id": "74b9d634",
   "metadata": {},
   "outputs": [],
   "source": [
    "car_df.loc[6] = [\"Dodge\", \"04-06-2021\", \"04-06-2023\"]"
   ]
  },
  {
   "cell_type": "code",
   "execution_count": 39,
   "id": "84bc1af5",
   "metadata": {},
   "outputs": [
    {
     "data": {
      "text/html": [
       "<div>\n",
       "<style scoped>\n",
       "    .dataframe tbody tr th:only-of-type {\n",
       "        vertical-align: middle;\n",
       "    }\n",
       "\n",
       "    .dataframe tbody tr th {\n",
       "        vertical-align: top;\n",
       "    }\n",
       "\n",
       "    .dataframe thead th {\n",
       "        text-align: right;\n",
       "    }\n",
       "</style>\n",
       "<table border=\"1\" class=\"dataframe\">\n",
       "  <thead>\n",
       "    <tr style=\"text-align: right;\">\n",
       "      <th></th>\n",
       "      <th>cars</th>\n",
       "      <th>manufacture_date</th>\n",
       "      <th>last_service_date</th>\n",
       "    </tr>\n",
       "  </thead>\n",
       "  <tbody>\n",
       "    <tr>\n",
       "      <th>0</th>\n",
       "      <td>Nissan</td>\n",
       "      <td>09-05-2016</td>\n",
       "      <td>09-05-2017</td>\n",
       "    </tr>\n",
       "    <tr>\n",
       "      <th>1</th>\n",
       "      <td>Toyota</td>\n",
       "      <td>04-08-2017</td>\n",
       "      <td>04-08-2018</td>\n",
       "    </tr>\n",
       "    <tr>\n",
       "      <th>2</th>\n",
       "      <td>Mercedes</td>\n",
       "      <td>06-05-2018</td>\n",
       "      <td>06-05-2019</td>\n",
       "    </tr>\n",
       "    <tr>\n",
       "      <th>3</th>\n",
       "      <td>Ferrari</td>\n",
       "      <td>02-05-2019</td>\n",
       "      <td>02-05-2020</td>\n",
       "    </tr>\n",
       "    <tr>\n",
       "      <th>4</th>\n",
       "      <td>Aston Martin</td>\n",
       "      <td>10-05-2020</td>\n",
       "      <td>10-05-2021</td>\n",
       "    </tr>\n",
       "    <tr>\n",
       "      <th>5</th>\n",
       "      <td>Audi</td>\n",
       "      <td>04-06-2023</td>\n",
       "      <td>04-06-2024</td>\n",
       "    </tr>\n",
       "    <tr>\n",
       "      <th>6</th>\n",
       "      <td>Dodge</td>\n",
       "      <td>04-06-2021</td>\n",
       "      <td>04-06-2023</td>\n",
       "    </tr>\n",
       "  </tbody>\n",
       "</table>\n",
       "</div>"
      ],
      "text/plain": [
       "           cars manufacture_date last_service_date\n",
       "0        Nissan       09-05-2016        09-05-2017\n",
       "1        Toyota       04-08-2017        04-08-2018\n",
       "2      Mercedes       06-05-2018        06-05-2019\n",
       "3       Ferrari       02-05-2019        02-05-2020\n",
       "4  Aston Martin       10-05-2020        10-05-2021\n",
       "5          Audi       04-06-2023        04-06-2024\n",
       "6         Dodge       04-06-2021        04-06-2023"
      ]
     },
     "execution_count": 39,
     "metadata": {},
     "output_type": "execute_result"
    }
   ],
   "source": [
    "car_df"
   ]
  },
  {
   "cell_type": "code",
   "execution_count": 41,
   "id": "c1f78b51",
   "metadata": {},
   "outputs": [],
   "source": [
    "car_df[\"manufacture_date\"] = pd.to_datetime(car_df[\"manufacture_date\"])\n",
    "car_df[\"last_service_date\"] = pd.to_datetime(car_df[\"last_service_date\"])"
   ]
  },
  {
   "cell_type": "code",
   "execution_count": 56,
   "id": "641382e1",
   "metadata": {},
   "outputs": [],
   "source": [
    "car_filters = car_df[(pd.to_datetime(\"11-08-2024\").year - car_df[\"last_service_date\"].dt.year) > 3]"
   ]
  },
  {
   "cell_type": "code",
   "execution_count": 57,
   "id": "588f259d",
   "metadata": {},
   "outputs": [
    {
     "data": {
      "text/html": [
       "<div>\n",
       "<style scoped>\n",
       "    .dataframe tbody tr th:only-of-type {\n",
       "        vertical-align: middle;\n",
       "    }\n",
       "\n",
       "    .dataframe tbody tr th {\n",
       "        vertical-align: top;\n",
       "    }\n",
       "\n",
       "    .dataframe thead th {\n",
       "        text-align: right;\n",
       "    }\n",
       "</style>\n",
       "<table border=\"1\" class=\"dataframe\">\n",
       "  <thead>\n",
       "    <tr style=\"text-align: right;\">\n",
       "      <th></th>\n",
       "      <th>cars</th>\n",
       "      <th>manufacture_date</th>\n",
       "      <th>last_service_date</th>\n",
       "    </tr>\n",
       "  </thead>\n",
       "  <tbody>\n",
       "    <tr>\n",
       "      <th>0</th>\n",
       "      <td>Nissan</td>\n",
       "      <td>2016-09-05</td>\n",
       "      <td>2017-09-05</td>\n",
       "    </tr>\n",
       "    <tr>\n",
       "      <th>1</th>\n",
       "      <td>Toyota</td>\n",
       "      <td>2017-04-08</td>\n",
       "      <td>2018-04-08</td>\n",
       "    </tr>\n",
       "    <tr>\n",
       "      <th>2</th>\n",
       "      <td>Mercedes</td>\n",
       "      <td>2018-06-05</td>\n",
       "      <td>2019-06-05</td>\n",
       "    </tr>\n",
       "    <tr>\n",
       "      <th>3</th>\n",
       "      <td>Ferrari</td>\n",
       "      <td>2019-02-05</td>\n",
       "      <td>2020-02-05</td>\n",
       "    </tr>\n",
       "  </tbody>\n",
       "</table>\n",
       "</div>"
      ],
      "text/plain": [
       "       cars manufacture_date last_service_date\n",
       "0    Nissan       2016-09-05        2017-09-05\n",
       "1    Toyota       2017-04-08        2018-04-08\n",
       "2  Mercedes       2018-06-05        2019-06-05\n",
       "3   Ferrari       2019-02-05        2020-02-05"
      ]
     },
     "execution_count": 57,
     "metadata": {},
     "output_type": "execute_result"
    }
   ],
   "source": [
    "car_filters"
   ]
  },
  {
   "cell_type": "code",
   "execution_count": null,
   "id": "e6a8a6e2",
   "metadata": {},
   "outputs": [],
   "source": []
  }
 ],
 "metadata": {
  "kernelspec": {
   "display_name": "Python 3 (ipykernel)",
   "language": "python",
   "name": "python3"
  },
  "language_info": {
   "codemirror_mode": {
    "name": "ipython",
    "version": 3
   },
   "file_extension": ".py",
   "mimetype": "text/x-python",
   "name": "python",
   "nbconvert_exporter": "python",
   "pygments_lexer": "ipython3",
   "version": "3.11.7"
  }
 },
 "nbformat": 4,
 "nbformat_minor": 5
}
